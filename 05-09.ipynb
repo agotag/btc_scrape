{
 "cells": [
  {
   "cell_type": "code",
   "execution_count": 15,
   "metadata": {},
   "outputs": [],
   "source": [
    "from urllib import request\n",
    "import json\n",
    "from pprint import pprint\n",
    "from datetime import datetime\n",
    "import sqlite3\n",
    "import time"
   ]
  },
  {
   "cell_type": "code",
   "execution_count": 2,
   "metadata": {},
   "outputs": [],
   "source": [
    "url =' https://api.coindesk.com/v1/bpi/currentprice/GBP.json'      \n",
    "header = {'user-agent': 'Mozilla/5.0 (Windows NT 10.0; Win64; x64) AppleWebKit/537.36 (KHTML, like Gecko) Chrome/76.0.3809.132 Safari/537.36'} "
   ]
  },
  {
   "cell_type": "code",
   "execution_count": 3,
   "metadata": {},
   "outputs": [],
   "source": [
    "req = request.Request(url, headers=header)"
   ]
  },
  {
   "cell_type": "code",
   "execution_count": 4,
   "metadata": {},
   "outputs": [
    {
     "name": "stdout",
     "output_type": "stream",
     "text": [
      "{'bpi': {'GBP': {'code': 'GBP',\n",
      "                 'description': 'British Pound Sterling',\n",
      "                 'rate': '8,718.3040',\n",
      "                 'rate_float': 8718.304},\n",
      "         'USD': {'code': 'USD',\n",
      "                 'description': 'United States Dollar',\n",
      "                 'rate': '10,731.8450',\n",
      "                 'rate_float': 10731.845}},\n",
      " 'disclaimer': 'This data was produced from the CoinDesk Bitcoin Price Index '\n",
      "               '(USD). Non-USD currency data converted using hourly conversion '\n",
      "               'rate from openexchangerates.org',\n",
      " 'time': {'updated': 'Sep 6, 2019 08:43:00 UTC',\n",
      "          'updatedISO': '2019-09-06T08:43:00+00:00',\n",
      "          'updateduk': 'Sep 6, 2019 at 09:43 BST'}}\n"
     ]
    }
   ],
   "source": [
    "with request.urlopen(req) as data:\n",
    "    jdata = json.load(data)\n",
    "    pprint(jdata)"
   ]
  },
  {
   "cell_type": "code",
   "execution_count": 5,
   "metadata": {},
   "outputs": [
    {
     "name": "stdout",
     "output_type": "stream",
     "text": [
      "dict_keys(['time', 'disclaimer', 'bpi'])\n"
     ]
    }
   ],
   "source": [
    "print(jdata.keys())"
   ]
  },
  {
   "cell_type": "code",
   "execution_count": 6,
   "metadata": {},
   "outputs": [
    {
     "name": "stdout",
     "output_type": "stream",
     "text": [
      "dict_keys(['updated', 'updatedISO', 'updateduk'])\n"
     ]
    }
   ],
   "source": [
    "print(jdata['time'].keys())"
   ]
  },
  {
   "cell_type": "code",
   "execution_count": 7,
   "metadata": {},
   "outputs": [
    {
     "name": "stdout",
     "output_type": "stream",
     "text": [
      "Sep 6, 2019 at 09:43 BST\n"
     ]
    }
   ],
   "source": [
    "dt = jdata['time']['updateduk']\n",
    "print(dt)"
   ]
  },
  {
   "cell_type": "code",
   "execution_count": 8,
   "metadata": {},
   "outputs": [
    {
     "name": "stdout",
     "output_type": "stream",
     "text": [
      "2019-09-06 09:43:00\n"
     ]
    }
   ],
   "source": [
    "dt = datetime.strptime(dt, '%b %d, %Y at %H:%M BST') \n",
    "# (string, format)\n",
    "# strftime.org\n",
    "print(dt)"
   ]
  },
  {
   "cell_type": "code",
   "execution_count": 9,
   "metadata": {},
   "outputs": [],
   "source": [
    "rate = jdata['bpi']['GBP']['rate_float']"
   ]
  },
  {
   "cell_type": "code",
   "execution_count": 10,
   "metadata": {},
   "outputs": [
    {
     "data": {
      "text/plain": [
       "float"
      ]
     },
     "execution_count": 10,
     "metadata": {},
     "output_type": "execute_result"
    }
   ],
   "source": [
    "type(rate) # float, so don't need to cast"
   ]
  },
  {
   "cell_type": "code",
   "execution_count": 11,
   "metadata": {},
   "outputs": [],
   "source": [
    "# connect to sqlite3\n",
    "conn = sqlite3.connect(r'C:\\dbs\\crypto')\n",
    "#https://docs.python.org/2/library/sqlite3.html\n",
    "c = conn.cursor()"
   ]
  },
  {
   "cell_type": "code",
   "execution_count": 12,
   "metadata": {},
   "outputs": [],
   "source": [
    "param = (dt, 'GBP', rate)"
   ]
  },
  {
   "cell_type": "code",
   "execution_count": 13,
   "metadata": {
    "scrolled": true
   },
   "outputs": [
    {
     "name": "stdout",
     "output_type": "stream",
     "text": [
      "crypto\n",
      "crypto.db\n"
     ]
    }
   ],
   "source": [
    "! ls c:\\dbs\\"
   ]
  },
  {
   "cell_type": "markdown",
   "metadata": {},
   "source": [
    "BTC\n",
    "sqlite> .schemas\n",
    "Error: unknown command or invalid arguments:  \"schemas\". Enter \".help\" for help\n",
    "sqlite> .schema\n",
    "CREATE TABLE BTC(pricedate date, currency string, rate float);\n",
    "sqlite> select * from BTC;\n",
    "sqlite>"
   ]
  },
  {
   "cell_type": "code",
   "execution_count": 14,
   "metadata": {},
   "outputs": [],
   "source": [
    "c.execute('insert into BTC (pricedate, currency, rate) values (?, ?, ?)', param)\n",
    "conn.commit()"
   ]
  },
  {
   "cell_type": "code",
   "execution_count": null,
   "metadata": {},
   "outputs": [
    {
     "name": "stdout",
     "output_type": "stream",
     "text": [
      "{'bpi': {'GBP': {'code': 'GBP',\n",
      "                 'description': 'British Pound Sterling',\n",
      "                 'rate': '8,718.6425',\n",
      "                 'rate_float': 8718.6425},\n",
      "         'USD': {'code': 'USD',\n",
      "                 'description': 'United States Dollar',\n",
      "                 'rate': '10,732.2617',\n",
      "                 'rate_float': 10732.2617}},\n",
      " 'disclaimer': 'This data was produced from the CoinDesk Bitcoin Price Index '\n",
      "               '(USD). Non-USD currency data converted using hourly conversion '\n",
      "               'rate from openexchangerates.org',\n",
      " 'time': {'updated': 'Sep 6, 2019 08:46:00 UTC',\n",
      "          'updatedISO': '2019-09-06T08:46:00+00:00',\n",
      "          'updateduk': 'Sep 6, 2019 at 09:46 BST'}}\n",
      "Sep 6, 2019 at 09:46 BST\n",
      "{'bpi': {'GBP': {'code': 'GBP',\n",
      "                 'description': 'British Pound Sterling',\n",
      "                 'rate': '8,713.1075',\n",
      "                 'rate_float': 8713.1075},\n",
      "         'USD': {'code': 'USD',\n",
      "                 'description': 'United States Dollar',\n",
      "                 'rate': '10,725.4483',\n",
      "                 'rate_float': 10725.4483}},\n",
      " 'disclaimer': 'This data was produced from the CoinDesk Bitcoin Price Index '\n",
      "               '(USD). Non-USD currency data converted using hourly conversion '\n",
      "               'rate from openexchangerates.org',\n",
      " 'time': {'updated': 'Sep 6, 2019 08:48:00 UTC',\n",
      "          'updatedISO': '2019-09-06T08:48:00+00:00',\n",
      "          'updateduk': 'Sep 6, 2019 at 09:48 BST'}}\n",
      "Sep 6, 2019 at 09:48 BST\n"
     ]
    }
   ],
   "source": [
    "while True:\n",
    "    req = request.Request(url, headers=header)\n",
    "    with request.urlopen(req) as data:\n",
    "        jdata = json.load(data)\n",
    "        pprint(jdata)\n",
    "        dt = jdata['time']['updateduk']\n",
    "        print(dt)\n",
    "        dt = datetime.strptime(dt, '%b %d, %Y at %H:%M BST')\n",
    "        rate = jdata['bpi']['GBP']['rate_float']\n",
    "        conn = sqlite3.connect(r'C:\\dbs\\crypto')\n",
    "        c = conn.cursor()\n",
    "        param = (dt, 'GBP', rate)\n",
    "        c.execute('insert into BTC (pricedate, currency, rate) values (?, ?, ?)', param)\n",
    "        conn.commit()\n",
    "        conn.close()\n",
    "        time.sleep(65)"
   ]
  },
  {
   "cell_type": "code",
   "execution_count": null,
   "metadata": {},
   "outputs": [],
   "source": []
  },
  {
   "cell_type": "code",
   "execution_count": null,
   "metadata": {},
   "outputs": [],
   "source": []
  }
 ],
 "metadata": {
  "kernelspec": {
   "display_name": "Python 3",
   "language": "python",
   "name": "python3"
  },
  "language_info": {
   "codemirror_mode": {
    "name": "ipython",
    "version": 3
   },
   "file_extension": ".py",
   "mimetype": "text/x-python",
   "name": "python",
   "nbconvert_exporter": "python",
   "pygments_lexer": "ipython3",
   "version": "3.7.3"
  }
 },
 "nbformat": 4,
 "nbformat_minor": 2
}
